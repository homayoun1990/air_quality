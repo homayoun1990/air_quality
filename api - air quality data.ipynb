{
 "cells": [
  {
   "cell_type": "markdown",
   "metadata": {},
   "source": [
    "##### Air Quality"
   ]
  },
  {
   "cell_type": "code",
   "execution_count": 3,
   "metadata": {},
   "outputs": [
    {
     "name": "stdout",
     "output_type": "stream",
     "text": [
      "Time taken 88.73081183433533\n"
     ]
    }
   ],
   "source": [
    "import os\n",
    "import time\n",
    "import requests\n",
    "import sys\n",
    "\n",
    "\n",
    "def retrieve_html():\n",
    "    for year in range(2013,2019):\n",
    "        for month in range(1,13):\n",
    "            if(month<10):\n",
    "                url='http://en.tutiempo.net/climate/0{}-{}/ws-421820.html'.format(month\n",
    "                                                                          ,year)\n",
    "            else:\n",
    "                url='http://en.tutiempo.net/climate/{}-{}/ws-421820.html'.format(month\n",
    "                                                                          ,year)\n",
    "            texts=requests.get(url)\n",
    "            text_utf=texts.text.encode('utf=8')\n",
    "            \n",
    "            if not os.path.exists(\"Data/Html_Data/{}\".format(year)):\n",
    "                os.makedirs(\"Data/Html_Data/{}\".format(year))\n",
    "            with open(\"Data/Html_Data/{}/{}.html\".format(year,month),\"wb\") as output:\n",
    "                output.write(text_utf)\n",
    "            \n",
    "        sys.stdout.flush()\n",
    "        \n",
    "if __name__==\"__main__\":\n",
    "    start_time=time.time()\n",
    "    retrieve_html()\n",
    "    stop_time=time.time()\n",
    "    print(\"Time taken {}\".format(stop_time-start_time))"
   ]
  },
  {
   "cell_type": "markdown",
   "metadata": {},
   "source": [
    "### Your token is:  'a391d713bfc12bf3a6586bcedd319ac4639555fc'"
   ]
  },
  {
   "cell_type": "code",
   "execution_count": 13,
   "metadata": {},
   "outputs": [
    {
     "data": {
      "text/plain": [
       "{'status': 'ok',\n",
       " 'data': {'aqi': 15,\n",
       "  'idx': 10787,\n",
       "  'attributions': [{'url': 'http://aqms.doe.ir/',\n",
       "    'name': 'Iran National Air Quality Monitoring System - سامانه پایش کیفی هوای کشور',\n",
       "    'logo': 'Iran-AqccTehran.png'},\n",
       "   {'url': 'https://waqi.info/', 'name': 'World Air Quality Index Project'}],\n",
       "  'city': {'geo': [35.686719, 51.422419],\n",
       "   'name': 'Imam Khomeini, Tehran (امام خمینی تهران)',\n",
       "   'url': 'https://aqicn.org/city/iran/tehran/imam-khomeini'},\n",
       "  'dominentpol': 'so2',\n",
       "  'iaqi': {'h': {'v': 16.5},\n",
       "   'no2': {'v': 14},\n",
       "   'p': {'v': 1014.2},\n",
       "   'so2': {'v': 15},\n",
       "   't': {'v': 29.4},\n",
       "   'w': {'v': 4},\n",
       "   'wg': {'v': 32}},\n",
       "  'time': {'s': '2020-05-31 00:00:00', 'tz': '+04:30', 'v': 1590883200},\n",
       "  'debug': {'sync': '2020-05-31T04:47:39+09:00'}}}"
      ]
     },
     "execution_count": 13,
     "metadata": {},
     "output_type": "execute_result"
    }
   ],
   "source": [
    "import requests \n",
    "url = 'https://api.waqi.info/feed/tehran/?token=a391d713bfc12bf3a6586bcedd319ac4639555fc'\n",
    "r = requests.get(url)\n",
    "r.json()"
   ]
  },
  {
   "cell_type": "code",
   "execution_count": 11,
   "metadata": {},
   "outputs": [
    {
     "name": "stdout",
     "output_type": "stream",
     "text": [
      "HTTP/1.1 200 OK\n",
      "Server: nginx\n",
      "Date: Sat, 30 May 2020 20:03:09 GMT\n",
      "Content-Type: application/json; charset=UTF-8\n",
      "Content-Length: 954\n",
      "Connection: keep-alive\n",
      "Vary: Accept-Encoding\n",
      "Access-Control-Allow-Origin: *\n",
      "X-Gen-Time: 95.929Âµs\n",
      "X-Powered-By: rxstreamer-waqi/1.3\n",
      "\n",
      "{\"status\":\"ok\",\"data\":{\"aqi\":107,\"idx\":1437,\"attributions\":[{\"url\":\"http://106.37.208.233:20035/emcpublish/\",\"name\":\"China National Urban air quality real-time publishing platform (å…¨å›½åŸŽå¸‚ç©ºæ°”è´¨é‡�å®žæ—¶å�‘å¸ƒå¹³å�°)\"},{\"url\":\"https://china.usembassy-china.org.cn/embassy-consulates/shanghai/air-quality-monitor-stateair/\",\"name\":\"U.S. Consulate Shanghai Air Quality Monitor\"},{\"url\":\"https://sthj.sh.gov.cn/\",\"name\":\"Shanghai Environment Monitoring Center(ä¸Šæµ·å¸‚çŽ¯å¢ƒç›‘æµ‹ä¸­å¿ƒ)\"},{\"url\":\"https://waqi.info/\",\"name\":\"World Air Quality Index Project\"}],\"city\":{\"geo\":[31.2047372,121.4489017],\"name\":\"Shanghai (ä¸Šæµ·)\",\"url\":\"https://aqicn.org/city/shanghai\"},\"dominentpol\":\"pm25\",\"iaqi\":{\"co\":{\"v\":6.4},\"h\":{\"v\":92.5},\"no2\":{\"v\":14.2},\"p\":{\"v\":1007.5},\"pm10\":{\"v\":22},\"pm25\":{\"v\":107},\"so2\":{\"v\":1.6},\"t\":{\"v\":20},\"w\":{\"v\":0.8}},\"time\":{\"s\":\"2020-05-31 03:00:00\",\"tz\":\"+08:00\",\"v\":1590894000},\"debug\":{\"sync\":\"2020-05-31T05:02:43+09:00\"}}}\n"
     ]
    },
    {
     "name": "stderr",
     "output_type": "stream",
     "text": [
      "  % Total    % Received % Xferd  Average Speed   Time    Time     Time  Current\n",
      "                                 Dload  Upload   Total   Spent    Left  Speed\n",
      "\n",
      "  0     0    0     0    0     0      0      0 --:--:-- --:--:-- --:--:--     0\n",
      "100   954  100   954    0     0   1305      0 --:--:-- --:--:-- --:--:--  1305\n",
      "100   954  100   954    0     0   1305      0 --:--:-- --:--:-- --:--:--  1305\n"
     ]
    }
   ],
   "source": [
    "!curl -i http://api.waqi.info/feed/shanghai/?token=demo"
   ]
  },
  {
   "cell_type": "code",
   "execution_count": 1,
   "metadata": {},
   "outputs": [
    {
     "data": {
      "text/plain": [
       "'C:\\\\Users\\\\pc'"
      ]
     },
     "execution_count": 1,
     "metadata": {},
     "output_type": "execute_result"
    }
   ],
   "source": [
    "pwd"
   ]
  }
 ],
 "metadata": {
  "kernelspec": {
   "display_name": "Python 3",
   "language": "python",
   "name": "python3"
  },
  "language_info": {
   "codemirror_mode": {
    "name": "ipython",
    "version": 3
   },
   "file_extension": ".py",
   "mimetype": "text/x-python",
   "name": "python",
   "nbconvert_exporter": "python",
   "pygments_lexer": "ipython3",
   "version": "3.7.4"
  }
 },
 "nbformat": 4,
 "nbformat_minor": 2
}
